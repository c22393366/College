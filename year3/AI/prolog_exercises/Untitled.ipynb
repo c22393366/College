{
 "cells": [
  {
   "cell_type": "code",
   "execution_count": 2,
   "id": "df6f8e10-aaf0-4132-8430-93e97bc05131",
   "metadata": {},
   "outputs": [
    {
     "name": "stdout",
     "output_type": "stream",
     "text": [
      "[4 2 6 1] \n",
      " [0.58663274 0.77178251 0.15963443 0.34189476]\n"
     ]
    }
   ],
   "source": [
    "import numpy as np\n",
    "v1 = np.array([4,2,6,1])\n",
    "v2 = np.random.rand(4)\n",
    "print(v1, \"\\n\", v2)"
   ]
  },
  {
   "cell_type": "code",
   "execution_count": 3,
   "id": "52f9ecb3-4551-4576-b8d2-099d473e7246",
   "metadata": {},
   "outputs": [],
   "source": [
    "w = [x**2 for x in v1]"
   ]
  },
  {
   "cell_type": "code",
   "execution_count": 4,
   "id": "b674704a-62fb-4a15-9ae0-8034cae88999",
   "metadata": {},
   "outputs": [
    {
     "data": {
      "text/plain": [
       "[np.int64(16), np.int64(4), np.int64(36), np.int64(1)]"
      ]
     },
     "execution_count": 4,
     "metadata": {},
     "output_type": "execute_result"
    }
   ],
   "source": [
    "w"
   ]
  },
  {
   "cell_type": "code",
   "execution_count": 5,
   "id": "084b3287-9177-4cf3-aa39-a121df798c8e",
   "metadata": {},
   "outputs": [
    {
     "data": {
      "text/plain": [
       "(4,)"
      ]
     },
     "execution_count": 5,
     "metadata": {},
     "output_type": "execute_result"
    }
   ],
   "source": [
    "v1.shape\n"
   ]
  },
  {
   "cell_type": "code",
   "execution_count": null,
   "id": "c06b998d-23c6-40ee-b7ca-a897b4730c74",
   "metadata": {},
   "outputs": [],
   "source": []
  }
 ],
 "metadata": {
  "kernelspec": {
   "display_name": "Python 3 (ipykernel)",
   "language": "python",
   "name": "python3"
  },
  "language_info": {
   "codemirror_mode": {
    "name": "ipython",
    "version": 3
   },
   "file_extension": ".py",
   "mimetype": "text/x-python",
   "name": "python",
   "nbconvert_exporter": "python",
   "pygments_lexer": "ipython3",
   "version": "3.12.7"
  }
 },
 "nbformat": 4,
 "nbformat_minor": 5
}
